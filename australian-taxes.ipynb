{
 "cells": [
  {
   "cell_type": "code",
   "execution_count": 1,
   "id": "9495d7d1-90d2-4196-847b-a3d677ccf71d",
   "metadata": {},
   "outputs": [],
   "source": [
    "import pandas as pd\n",
    "import numpy as np\n",
    "import matplotlib.pyplot as plt\n",
    "from sklearn.cluster import KMeans"
   ]
  },
  {
   "cell_type": "markdown",
   "id": "c000a272-ed12-4a4c-bb8b-d5162269980f",
   "metadata": {},
   "source": [
    "#### Data Source"
   ]
  },
  {
   "cell_type": "code",
   "execution_count": 2,
   "id": "db10a94c-8310-4589-b5db-bd7c0dd8e3e0",
   "metadata": {},
   "outputs": [],
   "source": [
    "# https://data.gov.au/dataset/ds-dga-5c99cfed-254d-40a6-af1c-47412b7de6fe/details?q=taxstats"
   ]
  },
  {
   "cell_type": "markdown",
   "id": "07e587f3-f321-4702-b38e-c521a98e37c7",
   "metadata": {},
   "source": [
    "#### Data info"
   ]
  },
  {
   "cell_type": "markdown",
   "id": "7e88f364-c90a-4922-893c-537b6eca53c2",
   "metadata": {},
   "source": [
    "##### _Taxation statistics: an overview of the income and tax status of Australian individuals,_ \n",
    "##### _companies, partnerships, trusts and funds for 2014-15._"
   ]
  },
  {
   "cell_type": "code",
   "execution_count": 3,
   "id": "8726440b-2fd8-40fa-bccf-6cb386fd08ec",
   "metadata": {},
   "outputs": [],
   "source": [
    "df = pd.read_csv(\"./dataset/taxstats.csv\")"
   ]
  },
  {
   "cell_type": "markdown",
   "id": "87484189-4729-4b06-a92b-42c99c0634cd",
   "metadata": {},
   "source": [
    "#### Columns"
   ]
  },
  {
   "cell_type": "code",
   "execution_count": 4,
   "id": "4750288b-f253-4ec8-abfe-bc3d2e23a5b0",
   "metadata": {},
   "outputs": [
    {
     "data": {
      "text/plain": [
       "Index(['Postcode', 'Count taxable income or loss',\n",
       "       'Average taxable income or loss', 'Median taxable income or loss',\n",
       "       'Count salary and wages', 'Average salary and wages',\n",
       "       'Median salary and wages', 'Count net rent', 'Average net rent',\n",
       "       'Median net rent', 'Count total income or loss',\n",
       "       'Average total income or loss', 'Median total income or loss',\n",
       "       'Count total deductions', 'Average total deductions',\n",
       "       'Median total deductions', 'Count total business income',\n",
       "       'Average total business income', 'Median total business income',\n",
       "       'Count  total business expenses', 'Average total business expenses',\n",
       "       'Median total business expenses', 'Count net tax', 'Average net tax',\n",
       "       'Median net tax', 'Count super total accounts balance',\n",
       "       'Average super total accounts balance',\n",
       "       'Median super total accounts balance'],\n",
       "      dtype='object')"
      ]
     },
     "execution_count": 4,
     "metadata": {},
     "output_type": "execute_result"
    }
   ],
   "source": [
    "df.columns"
   ]
  },
  {
   "cell_type": "code",
   "execution_count": 5,
   "id": "4788750f-a846-488b-990c-d8a171b2bcab",
   "metadata": {},
   "outputs": [
    {
     "data": {
      "text/html": [
       "<div>\n",
       "<style scoped>\n",
       "    .dataframe tbody tr th:only-of-type {\n",
       "        vertical-align: middle;\n",
       "    }\n",
       "\n",
       "    .dataframe tbody tr th {\n",
       "        vertical-align: top;\n",
       "    }\n",
       "\n",
       "    .dataframe thead th {\n",
       "        text-align: right;\n",
       "    }\n",
       "</style>\n",
       "<table border=\"1\" class=\"dataframe\">\n",
       "  <thead>\n",
       "    <tr style=\"text-align: right;\">\n",
       "      <th></th>\n",
       "      <th>Postcode</th>\n",
       "      <th>Count taxable income or loss</th>\n",
       "      <th>Average taxable income or loss</th>\n",
       "      <th>Median taxable income or loss</th>\n",
       "      <th>Count salary and wages</th>\n",
       "      <th>Average salary and wages</th>\n",
       "      <th>Median salary and wages</th>\n",
       "      <th>Count net rent</th>\n",
       "      <th>Average net rent</th>\n",
       "      <th>Median net rent</th>\n",
       "      <th>...</th>\n",
       "      <th>Median total business income</th>\n",
       "      <th>Count  total business expenses</th>\n",
       "      <th>Average total business expenses</th>\n",
       "      <th>Median total business expenses</th>\n",
       "      <th>Count net tax</th>\n",
       "      <th>Average net tax</th>\n",
       "      <th>Median net tax</th>\n",
       "      <th>Count super total accounts balance</th>\n",
       "      <th>Average super total accounts balance</th>\n",
       "      <th>Median super total accounts balance</th>\n",
       "    </tr>\n",
       "  </thead>\n",
       "  <tbody>\n",
       "    <tr>\n",
       "      <th>0</th>\n",
       "      <td>2000</td>\n",
       "      <td>36185</td>\n",
       "      <td>47723</td>\n",
       "      <td>18213</td>\n",
       "      <td>31293</td>\n",
       "      <td>38710</td>\n",
       "      <td>17992</td>\n",
       "      <td>3614</td>\n",
       "      <td>558</td>\n",
       "      <td>207</td>\n",
       "      <td>...</td>\n",
       "      <td>19684</td>\n",
       "      <td>1331</td>\n",
       "      <td>222191</td>\n",
       "      <td>20773</td>\n",
       "      <td>17264</td>\n",
       "      <td>27555</td>\n",
       "      <td>5917</td>\n",
       "      <td>51394</td>\n",
       "      <td>68531</td>\n",
       "      <td>1110</td>\n",
       "    </tr>\n",
       "    <tr>\n",
       "      <th>1</th>\n",
       "      <td>2006</td>\n",
       "      <td>83</td>\n",
       "      <td>80905</td>\n",
       "      <td>58150</td>\n",
       "      <td>74</td>\n",
       "      <td>82733</td>\n",
       "      <td>67658</td>\n",
       "      <td>21</td>\n",
       "      <td>1042</td>\n",
       "      <td>-807</td>\n",
       "      <td>...</td>\n",
       "      <td>42054</td>\n",
       "      <td>4</td>\n",
       "      <td>48971</td>\n",
       "      <td>18508</td>\n",
       "      <td>67</td>\n",
       "      <td>28142</td>\n",
       "      <td>19359</td>\n",
       "      <td>137</td>\n",
       "      <td>90315</td>\n",
       "      <td>15544</td>\n",
       "    </tr>\n",
       "    <tr>\n",
       "      <th>2</th>\n",
       "      <td>2007</td>\n",
       "      <td>4769</td>\n",
       "      <td>46549</td>\n",
       "      <td>31474</td>\n",
       "      <td>4153</td>\n",
       "      <td>47386</td>\n",
       "      <td>34366</td>\n",
       "      <td>548</td>\n",
       "      <td>-1242</td>\n",
       "      <td>-794</td>\n",
       "      <td>...</td>\n",
       "      <td>19960</td>\n",
       "      <td>334</td>\n",
       "      <td>639499</td>\n",
       "      <td>9233</td>\n",
       "      <td>3071</td>\n",
       "      <td>15649</td>\n",
       "      <td>9115</td>\n",
       "      <td>6711</td>\n",
       "      <td>41670</td>\n",
       "      <td>5225</td>\n",
       "    </tr>\n",
       "    <tr>\n",
       "      <th>3</th>\n",
       "      <td>2008</td>\n",
       "      <td>5607</td>\n",
       "      <td>108816</td>\n",
       "      <td>41151</td>\n",
       "      <td>5008</td>\n",
       "      <td>53418</td>\n",
       "      <td>42892</td>\n",
       "      <td>612</td>\n",
       "      <td>1818</td>\n",
       "      <td>-1728</td>\n",
       "      <td>...</td>\n",
       "      <td>19722</td>\n",
       "      <td>481</td>\n",
       "      <td>32173</td>\n",
       "      <td>9385</td>\n",
       "      <td>4061</td>\n",
       "      <td>53976</td>\n",
       "      <td>10583</td>\n",
       "      <td>7676</td>\n",
       "      <td>54245</td>\n",
       "      <td>10373</td>\n",
       "    </tr>\n",
       "    <tr>\n",
       "      <th>4</th>\n",
       "      <td>2009</td>\n",
       "      <td>9726</td>\n",
       "      <td>82938</td>\n",
       "      <td>50604</td>\n",
       "      <td>8167</td>\n",
       "      <td>74068</td>\n",
       "      <td>55243</td>\n",
       "      <td>1714</td>\n",
       "      <td>-2412</td>\n",
       "      <td>-1520</td>\n",
       "      <td>...</td>\n",
       "      <td>26044</td>\n",
       "      <td>666</td>\n",
       "      <td>222993</td>\n",
       "      <td>11982</td>\n",
       "      <td>7358</td>\n",
       "      <td>32430</td>\n",
       "      <td>14835</td>\n",
       "      <td>12718</td>\n",
       "      <td>126486</td>\n",
       "      <td>20494</td>\n",
       "    </tr>\n",
       "  </tbody>\n",
       "</table>\n",
       "<p>5 rows × 28 columns</p>\n",
       "</div>"
      ],
      "text/plain": [
       "   Postcode  Count taxable income or loss  Average taxable income or loss  \\\n",
       "0      2000                         36185                           47723   \n",
       "1      2006                            83                           80905   \n",
       "2      2007                          4769                           46549   \n",
       "3      2008                          5607                          108816   \n",
       "4      2009                          9726                           82938   \n",
       "\n",
       "   Median taxable income or loss  Count salary and wages  \\\n",
       "0                          18213                   31293   \n",
       "1                          58150                      74   \n",
       "2                          31474                    4153   \n",
       "3                          41151                    5008   \n",
       "4                          50604                    8167   \n",
       "\n",
       "   Average salary and wages  Median salary and wages  Count net rent  \\\n",
       "0                     38710                    17992            3614   \n",
       "1                     82733                    67658              21   \n",
       "2                     47386                    34366             548   \n",
       "3                     53418                    42892             612   \n",
       "4                     74068                    55243            1714   \n",
       "\n",
       "   Average net rent  Median net rent  ...  Median total business income  \\\n",
       "0               558              207  ...                         19684   \n",
       "1              1042             -807  ...                         42054   \n",
       "2             -1242             -794  ...                         19960   \n",
       "3              1818            -1728  ...                         19722   \n",
       "4             -2412            -1520  ...                         26044   \n",
       "\n",
       "   Count  total business expenses  Average total business expenses  \\\n",
       "0                            1331                           222191   \n",
       "1                               4                            48971   \n",
       "2                             334                           639499   \n",
       "3                             481                            32173   \n",
       "4                             666                           222993   \n",
       "\n",
       "   Median total business expenses  Count net tax  Average net tax  \\\n",
       "0                           20773          17264            27555   \n",
       "1                           18508             67            28142   \n",
       "2                            9233           3071            15649   \n",
       "3                            9385           4061            53976   \n",
       "4                           11982           7358            32430   \n",
       "\n",
       "   Median net tax  Count super total accounts balance  \\\n",
       "0            5917                               51394   \n",
       "1           19359                                 137   \n",
       "2            9115                                6711   \n",
       "3           10583                                7676   \n",
       "4           14835                               12718   \n",
       "\n",
       "   Average super total accounts balance  Median super total accounts balance  \n",
       "0                                 68531                                 1110  \n",
       "1                                 90315                                15544  \n",
       "2                                 41670                                 5225  \n",
       "3                                 54245                                10373  \n",
       "4                                126486                                20494  \n",
       "\n",
       "[5 rows x 28 columns]"
      ]
     },
     "execution_count": 5,
     "metadata": {},
     "output_type": "execute_result"
    }
   ],
   "source": [
    "df.head()"
   ]
  },
  {
   "cell_type": "code",
   "execution_count": 6,
   "id": "4c1d3e54-9764-401f-a0c4-758267a530a0",
   "metadata": {},
   "outputs": [],
   "source": [
    "cols = [\"Average net tax\", \"Average total deductions\", \"Postcode\"]"
   ]
  },
  {
   "cell_type": "code",
   "execution_count": 7,
   "id": "8ce521d3-2d37-49c8-b273-3a41362f59ae",
   "metadata": {},
   "outputs": [
    {
     "data": {
      "text/html": [
       "<div>\n",
       "<style scoped>\n",
       "    .dataframe tbody tr th:only-of-type {\n",
       "        vertical-align: middle;\n",
       "    }\n",
       "\n",
       "    .dataframe tbody tr th {\n",
       "        vertical-align: top;\n",
       "    }\n",
       "\n",
       "    .dataframe thead th {\n",
       "        text-align: right;\n",
       "    }\n",
       "</style>\n",
       "<table border=\"1\" class=\"dataframe\">\n",
       "  <thead>\n",
       "    <tr style=\"text-align: right;\">\n",
       "      <th></th>\n",
       "      <th>Average net tax</th>\n",
       "      <th>Average total deductions</th>\n",
       "      <th>Postcode</th>\n",
       "    </tr>\n",
       "  </thead>\n",
       "  <tbody>\n",
       "    <tr>\n",
       "      <th>0</th>\n",
       "      <td>27555</td>\n",
       "      <td>2071</td>\n",
       "      <td>2000</td>\n",
       "    </tr>\n",
       "    <tr>\n",
       "      <th>1</th>\n",
       "      <td>28142</td>\n",
       "      <td>3804</td>\n",
       "      <td>2006</td>\n",
       "    </tr>\n",
       "    <tr>\n",
       "      <th>2</th>\n",
       "      <td>15649</td>\n",
       "      <td>1740</td>\n",
       "      <td>2007</td>\n",
       "    </tr>\n",
       "    <tr>\n",
       "      <th>3</th>\n",
       "      <td>53976</td>\n",
       "      <td>3917</td>\n",
       "      <td>2008</td>\n",
       "    </tr>\n",
       "    <tr>\n",
       "      <th>4</th>\n",
       "      <td>32430</td>\n",
       "      <td>3433</td>\n",
       "      <td>2009</td>\n",
       "    </tr>\n",
       "  </tbody>\n",
       "</table>\n",
       "</div>"
      ],
      "text/plain": [
       "   Average net tax  Average total deductions  Postcode\n",
       "0            27555                      2071      2000\n",
       "1            28142                      3804      2006\n",
       "2            15649                      1740      2007\n",
       "3            53976                      3917      2008\n",
       "4            32430                      3433      2009"
      ]
     },
     "execution_count": 7,
     "metadata": {},
     "output_type": "execute_result"
    }
   ],
   "source": [
    "df = df[cols]\n",
    "df.head()"
   ]
  },
  {
   "cell_type": "code",
   "execution_count": 8,
   "id": "e3d58b2a-595d-4199-9e17-fa5544a873c3",
   "metadata": {},
   "outputs": [
    {
     "data": {
      "text/plain": [
       "(2473, 3)"
      ]
     },
     "execution_count": 8,
     "metadata": {},
     "output_type": "execute_result"
    }
   ],
   "source": [
    "df.shape"
   ]
  },
  {
   "cell_type": "code",
   "execution_count": 9,
   "id": "c2e700c1-d307-46e3-92ff-a2ae6d77000f",
   "metadata": {},
   "outputs": [
    {
     "data": {
      "text/html": [
       "<div>\n",
       "<style scoped>\n",
       "    .dataframe tbody tr th:only-of-type {\n",
       "        vertical-align: middle;\n",
       "    }\n",
       "\n",
       "    .dataframe tbody tr th {\n",
       "        vertical-align: top;\n",
       "    }\n",
       "\n",
       "    .dataframe thead th {\n",
       "        text-align: right;\n",
       "    }\n",
       "</style>\n",
       "<table border=\"1\" class=\"dataframe\">\n",
       "  <thead>\n",
       "    <tr style=\"text-align: right;\">\n",
       "      <th></th>\n",
       "      <th>Average net tax</th>\n",
       "      <th>Average total deductions</th>\n",
       "      <th>Postcode</th>\n",
       "    </tr>\n",
       "  </thead>\n",
       "  <tbody>\n",
       "    <tr>\n",
       "      <th>0</th>\n",
       "      <td>27555</td>\n",
       "      <td>2071</td>\n",
       "      <td>2000</td>\n",
       "    </tr>\n",
       "    <tr>\n",
       "      <th>1</th>\n",
       "      <td>28142</td>\n",
       "      <td>3804</td>\n",
       "      <td>2006</td>\n",
       "    </tr>\n",
       "    <tr>\n",
       "      <th>2</th>\n",
       "      <td>15649</td>\n",
       "      <td>1740</td>\n",
       "      <td>2007</td>\n",
       "    </tr>\n",
       "    <tr>\n",
       "      <th>3</th>\n",
       "      <td>53976</td>\n",
       "      <td>3917</td>\n",
       "      <td>2008</td>\n",
       "    </tr>\n",
       "    <tr>\n",
       "      <th>4</th>\n",
       "      <td>32430</td>\n",
       "      <td>3433</td>\n",
       "      <td>2009</td>\n",
       "    </tr>\n",
       "  </tbody>\n",
       "</table>\n",
       "</div>"
      ],
      "text/plain": [
       "   Average net tax  Average total deductions  Postcode\n",
       "0            27555                      2071      2000\n",
       "1            28142                      3804      2006\n",
       "2            15649                      1740      2007\n",
       "3            53976                      3917      2008\n",
       "4            32430                      3433      2009"
      ]
     },
     "execution_count": 9,
     "metadata": {},
     "output_type": "execute_result"
    }
   ],
   "source": [
    "df.head()"
   ]
  },
  {
   "cell_type": "markdown",
   "id": "dd8e7f1c-3f63-438a-bdef-355c44cff0b7",
   "metadata": {},
   "source": [
    "#### Clusters"
   ]
  },
  {
   "cell_type": "code",
   "execution_count": 10,
   "id": "4a19336d-85ba-4096-8c19-dfafe83b2e19",
   "metadata": {},
   "outputs": [],
   "source": [
    "clusters = pd.DataFrame()\n",
    "clusters[\"clusters_range\"] = range(1, 10)\n",
    "inertia = []"
   ]
  },
  {
   "cell_type": "markdown",
   "id": "69314cd0-edb2-42a7-a83b-60c9d9d138c5",
   "metadata": {},
   "source": [
    "#### Group by of Average net tax and Average total deductions"
   ]
  },
  {
   "cell_type": "code",
   "execution_count": 11,
   "id": "5b7fa9e3-6162-4203-810f-459d0d16262e",
   "metadata": {},
   "outputs": [],
   "source": [
    "X = df[cols]"
   ]
  },
  {
   "cell_type": "code",
   "execution_count": 12,
   "id": "56248dec-3892-40d9-9fda-7bee1a5c86f8",
   "metadata": {},
   "outputs": [],
   "source": [
    "def find_inertias(cl_range, x):\n",
    "    \"cl: range(int, int), x: pd.DataFrame\"\n",
    "    inertias = []\n",
    "    for i in cl_range:\n",
    "        km = KMeans(n_clusters=i, random_state=0).fit(x)\n",
    "        inertias.append(km.inertia_)\n",
    "    return inertias"
   ]
  },
  {
   "cell_type": "code",
   "execution_count": 13,
   "id": "1e1db5be-d388-4645-bd43-2fa9365203ca",
   "metadata": {},
   "outputs": [
    {
     "data": {
      "text/html": [
       "<div>\n",
       "<style scoped>\n",
       "    .dataframe tbody tr th:only-of-type {\n",
       "        vertical-align: middle;\n",
       "    }\n",
       "\n",
       "    .dataframe tbody tr th {\n",
       "        vertical-align: top;\n",
       "    }\n",
       "\n",
       "    .dataframe thead th {\n",
       "        text-align: right;\n",
       "    }\n",
       "</style>\n",
       "<table border=\"1\" class=\"dataframe\">\n",
       "  <thead>\n",
       "    <tr style=\"text-align: right;\">\n",
       "      <th></th>\n",
       "      <th>clusters_range</th>\n",
       "      <th>inertia</th>\n",
       "    </tr>\n",
       "  </thead>\n",
       "  <tbody>\n",
       "    <tr>\n",
       "      <th>0</th>\n",
       "      <td>1</td>\n",
       "      <td>1.641846e+11</td>\n",
       "    </tr>\n",
       "    <tr>\n",
       "      <th>1</th>\n",
       "      <td>2</td>\n",
       "      <td>7.206202e+10</td>\n",
       "    </tr>\n",
       "    <tr>\n",
       "      <th>2</th>\n",
       "      <td>3</td>\n",
       "      <td>4.254706e+10</td>\n",
       "    </tr>\n",
       "    <tr>\n",
       "      <th>3</th>\n",
       "      <td>4</td>\n",
       "      <td>2.799639e+10</td>\n",
       "    </tr>\n",
       "    <tr>\n",
       "      <th>4</th>\n",
       "      <td>5</td>\n",
       "      <td>2.124144e+10</td>\n",
       "    </tr>\n",
       "    <tr>\n",
       "      <th>5</th>\n",
       "      <td>6</td>\n",
       "      <td>1.695212e+10</td>\n",
       "    </tr>\n",
       "    <tr>\n",
       "      <th>6</th>\n",
       "      <td>7</td>\n",
       "      <td>1.422786e+10</td>\n",
       "    </tr>\n",
       "    <tr>\n",
       "      <th>7</th>\n",
       "      <td>8</td>\n",
       "      <td>1.270166e+10</td>\n",
       "    </tr>\n",
       "    <tr>\n",
       "      <th>8</th>\n",
       "      <td>9</td>\n",
       "      <td>1.140300e+10</td>\n",
       "    </tr>\n",
       "  </tbody>\n",
       "</table>\n",
       "</div>"
      ],
      "text/plain": [
       "   clusters_range       inertia\n",
       "0               1  1.641846e+11\n",
       "1               2  7.206202e+10\n",
       "2               3  4.254706e+10\n",
       "3               4  2.799639e+10\n",
       "4               5  2.124144e+10\n",
       "5               6  1.695212e+10\n",
       "6               7  1.422786e+10\n",
       "7               8  1.270166e+10\n",
       "8               9  1.140300e+10"
      ]
     },
     "execution_count": 13,
     "metadata": {},
     "output_type": "execute_result"
    }
   ],
   "source": [
    "clusters[\"inertia\"] = find_inertias(clusters.clusters_range, X)\n",
    "clusters"
   ]
  },
  {
   "cell_type": "markdown",
   "id": "822d0ace-8f45-48a2-ac24-47a7fb3cedf3",
   "metadata": {},
   "source": [
    "#### Inertia"
   ]
  },
  {
   "cell_type": "code",
   "execution_count": 14,
   "id": "b35b93ca-306f-4191-849d-1c5786b66a63",
   "metadata": {},
   "outputs": [
    {
     "data": {
      "image/png": "[encoded data removed]",
      "text/plain": [
       "<Figure size 432x288 with 1 Axes>"
      ]
     },
     "metadata": {
      "needs_background": "light"
     },
     "output_type": "display_data"
    }
   ],
   "source": [
    "plt.plot(clusters.clusters_range, clusters.inertia)\n",
    "plt.grid()\n",
    "plt.show()"
   ]
  },
  {
   "cell_type": "markdown",
   "id": "5a16eb20-8e09-44e7-a82f-3bea419a837a",
   "metadata": {
    "tags": []
   },
   "source": [
    "##### cluster elbow at 4"
   ]
  },
  {
   "cell_type": "code",
   "execution_count": 42,
   "id": "aee47b0f-2e6c-4bf2-838e-7541bc8063cd",
   "metadata": {},
   "outputs": [],
   "source": [
    "kmeans = KMeans(random_state=0, n_clusters=3,  n_init=5).fit(X)\n",
    "y =  kmeans.predict(X)\n",
    "df[\"cluster\"] = y"
   ]
  },
  {
   "cell_type": "markdown",
   "id": "b3937015-5bcf-482a-b1ad-f885175b1cfc",
   "metadata": {},
   "source": [
    "#### Cluster max values"
   ]
  },
  {
   "cell_type": "code",
   "execution_count": 50,
   "id": "29067efa-c6ce-44d6-b323-eb1e00880edd",
   "metadata": {},
   "outputs": [
    {
     "data": {
      "text/html": [
       "<div>\n",
       "<style scoped>\n",
       "    .dataframe tbody tr th:only-of-type {\n",
       "        vertical-align: middle;\n",
       "    }\n",
       "\n",
       "    .dataframe tbody tr th {\n",
       "        vertical-align: top;\n",
       "    }\n",
       "\n",
       "    .dataframe thead th {\n",
       "        text-align: right;\n",
       "    }\n",
       "</style>\n",
       "<table border=\"1\" class=\"dataframe\">\n",
       "  <thead>\n",
       "    <tr style=\"text-align: right;\">\n",
       "      <th></th>\n",
       "      <th>Average net tax</th>\n",
       "      <th>Average total deductions</th>\n",
       "    </tr>\n",
       "    <tr>\n",
       "      <th>cluster</th>\n",
       "      <th></th>\n",
       "      <th></th>\n",
       "    </tr>\n",
       "  </thead>\n",
       "  <tbody>\n",
       "    <tr>\n",
       "      <th>0</th>\n",
       "      <td>17017</td>\n",
       "      <td>6780</td>\n",
       "    </tr>\n",
       "    <tr>\n",
       "      <th>1</th>\n",
       "      <td>90485</td>\n",
       "      <td>25472</td>\n",
       "    </tr>\n",
       "    <tr>\n",
       "      <th>2</th>\n",
       "      <td>33208</td>\n",
       "      <td>8631</td>\n",
       "    </tr>\n",
       "  </tbody>\n",
       "</table>\n",
       "</div>"
      ],
      "text/plain": [
       "         Average net tax  Average total deductions\n",
       "cluster                                           \n",
       "0                  17017                      6780\n",
       "1                  90485                     25472\n",
       "2                  33208                      8631"
      ]
     },
     "execution_count": 50,
     "metadata": {},
     "output_type": "execute_result"
    }
   ],
   "source": [
    "df.pivot_table(values=cols[:2], index=\"cluster\", aggfunc=np.max)"
   ]
  },
  {
   "cell_type": "code",
   "execution_count": 44,
   "id": "a9f2a916-28be-4203-8486-fa9c30858bc1",
   "metadata": {},
   "outputs": [
    {
     "data": {
      "image/png": "[encoded data removed]",
      "text/plain": [
       "<Figure size 720x360 with 1 Axes>"
      ]
     },
     "metadata": {
      "needs_background": "light"
     },
     "output_type": "display_data"
    }
   ],
   "source": [
    "fig, ax = plt.subplots()\n",
    "fig.set_figheight(5)\n",
    "fig.set_figwidth(10)\n",
    "\n",
    "sc = ax.scatter(df[cols[0]], df[cols[1]], c=y)\n",
    "\n",
    "ax.legend(*sc.legend_elements(), title=\"clusters\", loc=2)\n",
    "ax.grid()\n",
    "ax.set_xlabel(f\"{cols[0]}\")\n",
    "ax.set_ylabel(f\"{cols[1]}\")\n",
    "fig.savefig(\"./figures/tax_deduction_clusters.png\", format=\"png\", dpi=500)"
   ]
  },
  {
   "cell_type": "markdown",
   "id": "70238bc8-accb-4d24-b7b7-c2a6b71fc5b0",
   "metadata": {},
   "source": [
    "#### Group by Postcodes, Business Income and Expenses"
   ]
  },
  {
   "cell_type": "code",
   "execution_count": 18,
   "id": "a2b1b528-9d04-457a-b39d-bbbf6a2c16d0",
   "metadata": {},
   "outputs": [],
   "source": [
    "cols2 = [\"Average total business income\", \"Average total business expenses\"]"
   ]
  },
  {
   "cell_type": "code",
   "execution_count": 19,
   "id": "02f9be80-2a04-44b8-b858-5d051119181e",
   "metadata": {},
   "outputs": [],
   "source": [
    "df2 = pd.read_csv(\"./dataset/taxstats.csv\", usecols=cols2)"
   ]
  },
  {
   "cell_type": "code",
   "execution_count": 20,
   "id": "48087bf7-04a7-44c7-87d3-822c804d34d3",
   "metadata": {},
   "outputs": [
    {
     "data": {
      "text/html": [
       "<div>\n",
       "<style scoped>\n",
       "    .dataframe tbody tr th:only-of-type {\n",
       "        vertical-align: middle;\n",
       "    }\n",
       "\n",
       "    .dataframe tbody tr th {\n",
       "        vertical-align: top;\n",
       "    }\n",
       "\n",
       "    .dataframe thead th {\n",
       "        text-align: right;\n",
       "    }\n",
       "</style>\n",
       "<table border=\"1\" class=\"dataframe\">\n",
       "  <thead>\n",
       "    <tr style=\"text-align: right;\">\n",
       "      <th></th>\n",
       "      <th>Average total business income</th>\n",
       "      <th>Average total business expenses</th>\n",
       "    </tr>\n",
       "  </thead>\n",
       "  <tbody>\n",
       "    <tr>\n",
       "      <th>0</th>\n",
       "      <td>210901</td>\n",
       "      <td>222191</td>\n",
       "    </tr>\n",
       "    <tr>\n",
       "      <th>1</th>\n",
       "      <td>69983</td>\n",
       "      <td>48971</td>\n",
       "    </tr>\n",
       "    <tr>\n",
       "      <th>2</th>\n",
       "      <td>575099</td>\n",
       "      <td>639499</td>\n",
       "    </tr>\n",
       "    <tr>\n",
       "      <th>3</th>\n",
       "      <td>53329</td>\n",
       "      <td>32173</td>\n",
       "    </tr>\n",
       "    <tr>\n",
       "      <th>4</th>\n",
       "      <td>237539</td>\n",
       "      <td>222993</td>\n",
       "    </tr>\n",
       "  </tbody>\n",
       "</table>\n",
       "</div>"
      ],
      "text/plain": [
       "   Average total business income  Average total business expenses\n",
       "0                         210901                           222191\n",
       "1                          69983                            48971\n",
       "2                         575099                           639499\n",
       "3                          53329                            32173\n",
       "4                         237539                           222993"
      ]
     },
     "execution_count": 20,
     "metadata": {},
     "output_type": "execute_result"
    }
   ],
   "source": [
    "df2.head()"
   ]
  },
  {
   "cell_type": "code",
   "execution_count": 21,
   "id": "169db771-d733-44a8-b6ea-a1f6148d85af",
   "metadata": {},
   "outputs": [],
   "source": [
    "X2 = df2[cols2]"
   ]
  },
  {
   "cell_type": "code",
   "execution_count": 22,
   "id": "0e9962d8-7ae1-4958-b0c6-9591b8cae9c1",
   "metadata": {},
   "outputs": [
    {
     "data": {
      "text/html": [
       "<div>\n",
       "<style scoped>\n",
       "    .dataframe tbody tr th:only-of-type {\n",
       "        vertical-align: middle;\n",
       "    }\n",
       "\n",
       "    .dataframe tbody tr th {\n",
       "        vertical-align: top;\n",
       "    }\n",
       "\n",
       "    .dataframe thead th {\n",
       "        text-align: right;\n",
       "    }\n",
       "</style>\n",
       "<table border=\"1\" class=\"dataframe\">\n",
       "  <thead>\n",
       "    <tr style=\"text-align: right;\">\n",
       "      <th></th>\n",
       "      <th>clusters_range</th>\n",
       "      <th>inertia</th>\n",
       "      <th>inertia2</th>\n",
       "    </tr>\n",
       "  </thead>\n",
       "  <tbody>\n",
       "    <tr>\n",
       "      <th>0</th>\n",
       "      <td>1</td>\n",
       "      <td>1.641846e+11</td>\n",
       "      <td>1.333516e+13</td>\n",
       "    </tr>\n",
       "    <tr>\n",
       "      <th>1</th>\n",
       "      <td>2</td>\n",
       "      <td>7.206202e+10</td>\n",
       "      <td>7.063097e+12</td>\n",
       "    </tr>\n",
       "    <tr>\n",
       "      <th>2</th>\n",
       "      <td>3</td>\n",
       "      <td>4.254706e+10</td>\n",
       "      <td>3.718740e+12</td>\n",
       "    </tr>\n",
       "    <tr>\n",
       "      <th>3</th>\n",
       "      <td>4</td>\n",
       "      <td>2.799639e+10</td>\n",
       "      <td>2.341856e+12</td>\n",
       "    </tr>\n",
       "    <tr>\n",
       "      <th>4</th>\n",
       "      <td>5</td>\n",
       "      <td>2.124144e+10</td>\n",
       "      <td>1.714920e+12</td>\n",
       "    </tr>\n",
       "    <tr>\n",
       "      <th>5</th>\n",
       "      <td>6</td>\n",
       "      <td>1.695212e+10</td>\n",
       "      <td>1.224488e+12</td>\n",
       "    </tr>\n",
       "    <tr>\n",
       "      <th>6</th>\n",
       "      <td>7</td>\n",
       "      <td>1.422786e+10</td>\n",
       "      <td>9.444748e+11</td>\n",
       "    </tr>\n",
       "    <tr>\n",
       "      <th>7</th>\n",
       "      <td>8</td>\n",
       "      <td>1.270166e+10</td>\n",
       "      <td>7.488375e+11</td>\n",
       "    </tr>\n",
       "    <tr>\n",
       "      <th>8</th>\n",
       "      <td>9</td>\n",
       "      <td>1.140300e+10</td>\n",
       "      <td>6.346163e+11</td>\n",
       "    </tr>\n",
       "  </tbody>\n",
       "</table>\n",
       "</div>"
      ],
      "text/plain": [
       "   clusters_range       inertia      inertia2\n",
       "0               1  1.641846e+11  1.333516e+13\n",
       "1               2  7.206202e+10  7.063097e+12\n",
       "2               3  4.254706e+10  3.718740e+12\n",
       "3               4  2.799639e+10  2.341856e+12\n",
       "4               5  2.124144e+10  1.714920e+12\n",
       "5               6  1.695212e+10  1.224488e+12\n",
       "6               7  1.422786e+10  9.444748e+11\n",
       "7               8  1.270166e+10  7.488375e+11\n",
       "8               9  1.140300e+10  6.346163e+11"
      ]
     },
     "execution_count": 22,
     "metadata": {},
     "output_type": "execute_result"
    }
   ],
   "source": [
    "clusters[\"inertia2\"] = find_inertias(clusters.clusters_range, X2)\n",
    "clusters"
   ]
  },
  {
   "cell_type": "code",
   "execution_count": 23,
   "id": "c6aedd7f-a347-4055-86a0-441e407adee7",
   "metadata": {},
   "outputs": [
    {
     "data": {
      "image/png": "[encoded data removed]",
      "text/plain": [
       "<Figure size 432x288 with 1 Axes>"
      ]
     },
     "metadata": {
      "needs_background": "light"
     },
     "output_type": "display_data"
    }
   ],
   "source": [
    "plt.plot(clusters.clusters_range, clusters.inertia2)\n",
    "plt.grid()\n",
    "plt.show()"
   ]
  },
  {
   "cell_type": "markdown",
   "id": "b5dc9c1a-0237-47c7-98a3-e1ca91875cc0",
   "metadata": {},
   "source": [
    "##### cluster elbow at 4"
   ]
  },
  {
   "cell_type": "code",
   "execution_count": 37,
   "id": "803c0503-69a4-4056-9e57-14943d07bb4e",
   "metadata": {},
   "outputs": [],
   "source": [
    "kmeans2 = KMeans(n_clusters=3, random_state=1, n_init=5).fit(X2)"
   ]
  },
  {
   "cell_type": "code",
   "execution_count": 38,
   "id": "e4ada606-248f-4926-81e1-9f47bd6c7523",
   "metadata": {},
   "outputs": [],
   "source": [
    "y2 = kmeans2.predict(X2)"
   ]
  },
  {
   "cell_type": "code",
   "execution_count": 39,
   "id": "c25a593a-616e-4c3f-b7fb-7f3b32dcca3c",
   "metadata": {},
   "outputs": [],
   "source": [
    "df2[\"cluster\"] = y2"
   ]
  },
  {
   "cell_type": "markdown",
   "id": "1d0c075f-7d41-44fd-8e82-d7f03468f9a7",
   "metadata": {},
   "source": [
    "#### Cluster max values"
   ]
  },
  {
   "cell_type": "code",
   "execution_count": 48,
   "id": "5f346f11-6a1e-4f7f-b21e-f63c084f86c1",
   "metadata": {},
   "outputs": [
    {
     "data": {
      "text/html": [
       "<div>\n",
       "<style scoped>\n",
       "    .dataframe tbody tr th:only-of-type {\n",
       "        vertical-align: middle;\n",
       "    }\n",
       "\n",
       "    .dataframe tbody tr th {\n",
       "        vertical-align: top;\n",
       "    }\n",
       "\n",
       "    .dataframe thead th {\n",
       "        text-align: right;\n",
       "    }\n",
       "</style>\n",
       "<table border=\"1\" class=\"dataframe\">\n",
       "  <thead>\n",
       "    <tr style=\"text-align: right;\">\n",
       "      <th></th>\n",
       "      <th>Average total business expenses</th>\n",
       "      <th>Average total business income</th>\n",
       "    </tr>\n",
       "    <tr>\n",
       "      <th>cluster</th>\n",
       "      <th></th>\n",
       "      <th></th>\n",
       "    </tr>\n",
       "  </thead>\n",
       "  <tbody>\n",
       "    <tr>\n",
       "      <th>0</th>\n",
       "      <td>119125</td>\n",
       "      <td>146493</td>\n",
       "    </tr>\n",
       "    <tr>\n",
       "      <th>1</th>\n",
       "      <td>884659</td>\n",
       "      <td>876324</td>\n",
       "    </tr>\n",
       "    <tr>\n",
       "      <th>2</th>\n",
       "      <td>327217</td>\n",
       "      <td>357040</td>\n",
       "    </tr>\n",
       "  </tbody>\n",
       "</table>\n",
       "</div>"
      ],
      "text/plain": [
       "         Average total business expenses  Average total business income\n",
       "cluster                                                                \n",
       "0                                 119125                         146493\n",
       "1                                 884659                         876324\n",
       "2                                 327217                         357040"
      ]
     },
     "execution_count": 48,
     "metadata": {},
     "output_type": "execute_result"
    }
   ],
   "source": [
    "df2.pivot_table(values=cols2, index=\"cluster\", aggfunc=np.max)"
   ]
  },
  {
   "cell_type": "code",
   "execution_count": 41,
   "id": "353b1ebb-fec6-4a9e-a565-bc1112710792",
   "metadata": {},
   "outputs": [
    {
     "data": {
      "image/png": "[encoded data removed]",
      "text/plain": [
       "<Figure size 720x360 with 1 Axes>"
      ]
     },
     "metadata": {
      "needs_background": "light"
     },
     "output_type": "display_data"
    }
   ],
   "source": [
    "fig, ax = plt.subplots()\n",
    "fig.set_figheight(5)\n",
    "fig.set_figwidth(10)\n",
    "\n",
    "sc = ax.scatter(df2[cols2[0]], df2[cols2[1]], c=y2, cmap=\"tab10\")\n",
    "\n",
    "ax.legend(*sc.legend_elements(), title=\"clusters\", loc=2)\n",
    "ax.grid()\n",
    "ax.set_xlabel(f\"{cols2[0]}\")\n",
    "ax.set_ylabel(f\"{cols2[1]}\")\n",
    "fig.savefig(\"./figures/expenses_income_clusters.png\", format=\"png\", dpi=500)"
   ]
  },
  {
   "cell_type": "code",
   "execution_count": null,
   "id": "400e8c39-c8e7-4270-a3cd-dac3e508bca7",
   "metadata": {},
   "outputs": [],
   "source": []
  }
 ],
 "metadata": {
  "kernelspec": {
   "display_name": "Python 3 (ipykernel)",
   "language": "python",
   "name": "python3"
  },
  "language_info": {
   "codemirror_mode": {
    "name": "ipython",
    "version": 3
   },
   "file_extension": ".py",
   "mimetype": "text/x-python",
   "name": "python",
   "nbconvert_exporter": "python",
   "pygments_lexer": "ipython3",
   "version": "3.9.6"
  }
 },
 "nbformat": 4,
 "nbformat_minor": 5
}
